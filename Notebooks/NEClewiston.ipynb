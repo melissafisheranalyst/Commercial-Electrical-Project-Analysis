{
 "cells": [
  {
   "cell_type": "code",
   "execution_count": 1,
   "id": "4006fe71-ef3e-4aa8-9d8f-5b94875bc8fd",
   "metadata": {},
   "outputs": [
    {
     "data": {
      "text/plain": [
       "(  Natural Electric LLC Unnamed: 1  Unnamed: 2        Unnamed: 3 Unnamed: 4\n",
       " 0  Clewiston Expense 2        NaN         NaN               NaN        NaN\n",
       " 1            All Dates        NaN         NaN               NaN        NaN\n",
       " 2                  NaN    Account        Date  Transaction type     Amount\n",
       " 3                 Fuel        NaN         NaN               NaN        NaN\n",
       " 4                  NaN       Fuel  10/04/2019           Expense      $8.31,\n",
       "             Natural Electric LLC                     Unnamed: 1  Unnamed: 2  \\\n",
       " 0             Clewiston Expenses                            NaN         NaN   \n",
       " 1                      All Dates                            NaN         NaN   \n",
       " 2                            NaN                        Account        Date   \n",
       " 3  51400 Job Materials Purchased                            NaN         NaN   \n",
       " 4                            NaN  51400 Job Materials Purchased  09/24/2019   \n",
       " \n",
       "          Unnamed: 3 Unnamed: 4  \n",
       " 0               NaN        NaN  \n",
       " 1               NaN        NaN  \n",
       " 2  Transaction type     Amount  \n",
       " 3               NaN        NaN  \n",
       " 4              Bill  $7,694.58  )"
      ]
     },
     "execution_count": 1,
     "metadata": {},
     "output_type": "execute_result"
    }
   ],
   "source": [
    "import pandas as pd\n",
    "\n",
    "# Load the uploaded files into dataframes\n",
    "clewiston_expense_1 = pd.read_csv(\"Clewiston Expense 2.csv\")\n",
    "clewiston_expense_2 = pd.read_csv(\"Clewiston Expenses.csv\")\n",
    "\n",
    "# Display the first few rows of both dataframes to understand their structure\n",
    "clewiston_expense_1_head = clewiston_expense_1.head()\n",
    "clewiston_expense_2_head = clewiston_expense_2.head()\n",
    "\n",
    "clewiston_expense_1_head, clewiston_expense_2_head\n"
   ]
  },
  {
   "cell_type": "code",
   "execution_count": 3,
   "id": "7f7d8225-f44e-4765-91b3-d69f8b194464",
   "metadata": {},
   "outputs": [
    {
     "name": "stdout",
     "output_type": "stream",
     "text": [
      "  Unnamed: 0 Account        Date Transaction type   Amount\n",
      "0       Fuel     NaN         NaN              NaN      NaN\n",
      "1        NaN    Fuel  10/04/2019          Expense    $8.31\n",
      "2        NaN    Fuel  10/04/2019          Expense  $100.00\n",
      "3        NaN    Fuel  10/10/2019          Expense  $112.00\n",
      "4        NaN    Fuel  10/23/2019          Expense   $33.91\n"
     ]
    }
   ],
   "source": [
    "# Reload the datasets, skipping irrelevant header rows\n",
    "clewiston_expense_1_clean = pd.read_csv(\"Clewiston Expense 2.csv\", skiprows=4)\n",
    "clewiston_expense_2_clean = pd.read_csv(\"Clewiston Expenses.csv\", skiprows=4)\n",
    "\n",
    "# Ensure the columns align between both datasets\n",
    "columns_match = clewiston_expense_1_clean.columns == clewiston_expense_2_clean.columns\n",
    "\n",
    "# Concatenate the datasets if columns align\n",
    "if columns_match.all():\n",
    "    combined_clewiston_expenses = pd.concat([clewiston_expense_1_clean, clewiston_expense_2_clean], ignore_index=True)\n",
    "else:\n",
    "    combined_clewiston_expenses = None  # Handle misalignment scenario\n",
    "\n",
    "# Display the first few rows of the combined dataset (or a message if misaligned)\n",
    "if combined_clewiston_expenses is not None:\n",
    "    print(combined_clewiston_expenses.head())\n",
    "else:\n",
    "    print(\"Columns do not align between the two datasets.\")\n"
   ]
  },
  {
   "cell_type": "code",
   "execution_count": 5,
   "id": "5199684f-b700-49d5-bf2f-965e07930ef7",
   "metadata": {},
   "outputs": [
    {
     "data": {
      "text/html": [
       "<div>\n",
       "<style scoped>\n",
       "    .dataframe tbody tr th:only-of-type {\n",
       "        vertical-align: middle;\n",
       "    }\n",
       "\n",
       "    .dataframe tbody tr th {\n",
       "        vertical-align: top;\n",
       "    }\n",
       "\n",
       "    .dataframe thead th {\n",
       "        text-align: right;\n",
       "    }\n",
       "</style>\n",
       "<table border=\"1\" class=\"dataframe\">\n",
       "  <thead>\n",
       "    <tr style=\"text-align: right;\">\n",
       "      <th></th>\n",
       "      <th>Account</th>\n",
       "      <th>Date</th>\n",
       "      <th>Transaction type</th>\n",
       "      <th>Amount</th>\n",
       "    </tr>\n",
       "  </thead>\n",
       "  <tbody>\n",
       "    <tr>\n",
       "      <th>0</th>\n",
       "      <td>Fuel</td>\n",
       "      <td>10/04/2019</td>\n",
       "      <td>Expense</td>\n",
       "      <td>$8.31</td>\n",
       "    </tr>\n",
       "    <tr>\n",
       "      <th>1</th>\n",
       "      <td>Fuel</td>\n",
       "      <td>10/04/2019</td>\n",
       "      <td>Expense</td>\n",
       "      <td>$100.00</td>\n",
       "    </tr>\n",
       "    <tr>\n",
       "      <th>2</th>\n",
       "      <td>Fuel</td>\n",
       "      <td>10/10/2019</td>\n",
       "      <td>Expense</td>\n",
       "      <td>$112.00</td>\n",
       "    </tr>\n",
       "    <tr>\n",
       "      <th>3</th>\n",
       "      <td>Fuel</td>\n",
       "      <td>10/23/2019</td>\n",
       "      <td>Expense</td>\n",
       "      <td>$33.91</td>\n",
       "    </tr>\n",
       "    <tr>\n",
       "      <th>4</th>\n",
       "      <td>Fuel</td>\n",
       "      <td>10/24/2019</td>\n",
       "      <td>Expense</td>\n",
       "      <td>$90.00</td>\n",
       "    </tr>\n",
       "  </tbody>\n",
       "</table>\n",
       "</div>"
      ],
      "text/plain": [
       "  Account        Date Transaction type   Amount\n",
       "0    Fuel  10/04/2019          Expense    $8.31\n",
       "1    Fuel  10/04/2019          Expense  $100.00\n",
       "2    Fuel  10/10/2019          Expense  $112.00\n",
       "3    Fuel  10/23/2019          Expense   $33.91\n",
       "4    Fuel  10/24/2019          Expense   $90.00"
      ]
     },
     "execution_count": 5,
     "metadata": {},
     "output_type": "execute_result"
    }
   ],
   "source": [
    "# Remove the first column\n",
    "combined_clewiston_expenses_cleaned = combined_clewiston_expenses.iloc[:, 1:]\n",
    "\n",
    "# Drop rows with any NaN values\n",
    "combined_clewiston_expenses_cleaned = combined_clewiston_expenses_cleaned.dropna()\n",
    "\n",
    "# Reset the index after dropping rows\n",
    "combined_clewiston_expenses_cleaned.reset_index(drop=True, inplace=True)\n",
    "\n",
    "# Display the cleaned dataset to confirm the changes\n",
    "combined_clewiston_expenses_cleaned.head()\n"
   ]
  },
  {
   "cell_type": "code",
   "execution_count": 6,
   "id": "80539768-c628-4f9e-a2a7-9c9f3c819a1c",
   "metadata": {},
   "outputs": [
    {
     "name": "stdout",
     "output_type": "stream",
     "text": [
      "No rows with missing values found.\n"
     ]
    }
   ],
   "source": [
    "#check to be sure rows with missing values were removed\n",
    "# Identify rows with any missing values\n",
    "rows_with_missing_values = combined_clewiston_expenses_cleaned[combined_clewiston_expenses_cleaned.isna().any(axis=1)]\n",
    "\n",
    "# Display the rows with missing values (if any)\n",
    "if not rows_with_missing_values.empty:\n",
    "    print(\"Rows with missing values:\")\n",
    "    print(rows_with_missing_values)\n",
    "else:\n",
    "    print(\"No rows with missing values found.\")\n"
   ]
  },
  {
   "cell_type": "code",
   "execution_count": 7,
   "id": "92ad6836-a4ea-479d-99cf-dcf463809a5e",
   "metadata": {},
   "outputs": [
    {
     "data": {
      "text/plain": [
       "Account             object\n",
       "Date                object\n",
       "Transaction type    object\n",
       "Amount              object\n",
       "dtype: object"
      ]
     },
     "execution_count": 7,
     "metadata": {},
     "output_type": "execute_result"
    }
   ],
   "source": [
    "# Display the data types of each column in the cleaned dataset\n",
    "data_types = combined_clewiston_expenses_cleaned.dtypes\n",
    "\n",
    "data_types\n"
   ]
  },
  {
   "cell_type": "code",
   "execution_count": 9,
   "id": "3e2c7ffa-c5d0-4894-937b-857b507039d0",
   "metadata": {},
   "outputs": [
    {
     "data": {
      "text/html": [
       "<div>\n",
       "<style scoped>\n",
       "    .dataframe tbody tr th:only-of-type {\n",
       "        vertical-align: middle;\n",
       "    }\n",
       "\n",
       "    .dataframe tbody tr th {\n",
       "        vertical-align: top;\n",
       "    }\n",
       "\n",
       "    .dataframe thead th {\n",
       "        text-align: right;\n",
       "    }\n",
       "</style>\n",
       "<table border=\"1\" class=\"dataframe\">\n",
       "  <thead>\n",
       "    <tr style=\"text-align: right;\">\n",
       "      <th></th>\n",
       "      <th>Account</th>\n",
       "      <th>Date</th>\n",
       "      <th>Transaction type</th>\n",
       "      <th>Amount</th>\n",
       "    </tr>\n",
       "  </thead>\n",
       "  <tbody>\n",
       "    <tr>\n",
       "      <th>0</th>\n",
       "      <td>Fuel</td>\n",
       "      <td>2019-10-04</td>\n",
       "      <td>Expense</td>\n",
       "      <td>8.31</td>\n",
       "    </tr>\n",
       "    <tr>\n",
       "      <th>1</th>\n",
       "      <td>Fuel</td>\n",
       "      <td>2019-10-04</td>\n",
       "      <td>Expense</td>\n",
       "      <td>100.00</td>\n",
       "    </tr>\n",
       "    <tr>\n",
       "      <th>2</th>\n",
       "      <td>Fuel</td>\n",
       "      <td>2019-10-10</td>\n",
       "      <td>Expense</td>\n",
       "      <td>112.00</td>\n",
       "    </tr>\n",
       "    <tr>\n",
       "      <th>3</th>\n",
       "      <td>Fuel</td>\n",
       "      <td>2019-10-23</td>\n",
       "      <td>Expense</td>\n",
       "      <td>33.91</td>\n",
       "    </tr>\n",
       "    <tr>\n",
       "      <th>4</th>\n",
       "      <td>Fuel</td>\n",
       "      <td>2019-10-24</td>\n",
       "      <td>Expense</td>\n",
       "      <td>90.00</td>\n",
       "    </tr>\n",
       "    <tr>\n",
       "      <th>...</th>\n",
       "      <td>...</td>\n",
       "      <td>...</td>\n",
       "      <td>...</td>\n",
       "      <td>...</td>\n",
       "    </tr>\n",
       "    <tr>\n",
       "      <th>574</th>\n",
       "      <td>50800 Equipment Rental for Jobs</td>\n",
       "      <td>2020-02-03</td>\n",
       "      <td>Bill</td>\n",
       "      <td>548.42</td>\n",
       "    </tr>\n",
       "    <tr>\n",
       "      <th>575</th>\n",
       "      <td>50800 Equipment Rental for Jobs</td>\n",
       "      <td>2020-02-17</td>\n",
       "      <td>Bill</td>\n",
       "      <td>1565.73</td>\n",
       "    </tr>\n",
       "    <tr>\n",
       "      <th>576</th>\n",
       "      <td>50800 Equipment Rental for Jobs</td>\n",
       "      <td>2020-04-09</td>\n",
       "      <td>Bill</td>\n",
       "      <td>318.26</td>\n",
       "    </tr>\n",
       "    <tr>\n",
       "      <th>577</th>\n",
       "      <td>50800 Equipment Rental for Jobs</td>\n",
       "      <td>2020-07-02</td>\n",
       "      <td>Expense</td>\n",
       "      <td>16187.00</td>\n",
       "    </tr>\n",
       "    <tr>\n",
       "      <th>578</th>\n",
       "      <td>50800 Equipment Rental for Jobs</td>\n",
       "      <td>2020-07-08</td>\n",
       "      <td>Bill</td>\n",
       "      <td>3191.85</td>\n",
       "    </tr>\n",
       "  </tbody>\n",
       "</table>\n",
       "<p>579 rows × 4 columns</p>\n",
       "</div>"
      ],
      "text/plain": [
       "                             Account       Date Transaction type    Amount\n",
       "0                               Fuel 2019-10-04          Expense      8.31\n",
       "1                               Fuel 2019-10-04          Expense    100.00\n",
       "2                               Fuel 2019-10-10          Expense    112.00\n",
       "3                               Fuel 2019-10-23          Expense     33.91\n",
       "4                               Fuel 2019-10-24          Expense     90.00\n",
       "..                               ...        ...              ...       ...\n",
       "574  50800 Equipment Rental for Jobs 2020-02-03             Bill    548.42\n",
       "575  50800 Equipment Rental for Jobs 2020-02-17             Bill   1565.73\n",
       "576  50800 Equipment Rental for Jobs 2020-04-09             Bill    318.26\n",
       "577  50800 Equipment Rental for Jobs 2020-07-02          Expense  16187.00\n",
       "578  50800 Equipment Rental for Jobs 2020-07-08             Bill   3191.85\n",
       "\n",
       "[579 rows x 4 columns]"
      ]
     },
     "execution_count": 9,
     "metadata": {},
     "output_type": "execute_result"
    }
   ],
   "source": [
    "# Convert 'Amount' column to numeric by removing currency symbols and commas\n",
    "combined_clewiston_expenses_cleaned['Amount'] = (\n",
    "    combined_clewiston_expenses_cleaned['Amount']\n",
    "    .replace(r'[\\$,]', '', regex=True)\n",
    "    .astype(float)\n",
    ")\n",
    "\n",
    "# Convert 'Date' column to datetime format\n",
    "combined_clewiston_expenses_cleaned['Date'] = pd.to_datetime(\n",
    "    combined_clewiston_expenses_cleaned['Date'], errors='coerce'\n",
    ")\n",
    "\n",
    "# Display the first few rows to confirm the changes\n",
    "combined_clewiston_expenses_cleaned\n",
    "\n"
   ]
  },
  {
   "cell_type": "code",
   "execution_count": 10,
   "id": "1b8ab6d7-6737-417f-87d5-2e35b1299634",
   "metadata": {},
   "outputs": [
    {
     "data": {
      "text/plain": [
       "array(['Fuel', 'Travel', '64300 Meals and Entertainment',\n",
       "       'Administration', 'Employee Expense', 'Wages', 'Taxes',\n",
       "       '51400 Job Materials Purchased', 'PT Casual Labor',\n",
       "       '50800 Equipment Rental for Jobs'], dtype=object)"
      ]
     },
     "execution_count": 10,
     "metadata": {},
     "output_type": "execute_result"
    }
   ],
   "source": [
    "# Display all unique values in the 'Account' column\n",
    "unique_accounts = combined_clewiston_expenses_cleaned['Account'].unique()\n",
    "\n",
    "unique_accounts\n"
   ]
  },
  {
   "cell_type": "code",
   "execution_count": 11,
   "id": "2fb2f6b2-4862-4be5-98c0-38e2969fe785",
   "metadata": {},
   "outputs": [
    {
     "data": {
      "text/plain": [
       "array(['Fuel', 'Travel', 'Meals and Entertainment', 'Administration',\n",
       "       'Employee Expense', 'Wages', 'Taxes', 'Job Materials Purchased',\n",
       "       'PT Casual Labor', 'Equipment Rental for Jobs'], dtype=object)"
      ]
     },
     "execution_count": 11,
     "metadata": {},
     "output_type": "execute_result"
    }
   ],
   "source": [
    "# Remove leading numbers and spaces from the 'Account' column using regex\n",
    "combined_clewiston_expenses_cleaned['Account'] = combined_clewiston_expenses_cleaned['Account'].str.replace(r'^\\d+\\s+', '', regex=True)\n",
    "\n",
    "# Display the unique account values after cleaning\n",
    "unique_accounts_cleaned = combined_clewiston_expenses_cleaned['Account'].unique()\n",
    "\n",
    "unique_accounts_cleaned\n"
   ]
  },
  {
   "cell_type": "code",
   "execution_count": 12,
   "id": "a91d18c0-6d26-4991-8792-64954e509e48",
   "metadata": {},
   "outputs": [
    {
     "data": {
      "text/plain": [
       "array(['Fuel', 'Travel', 'Meals and Entertainment', 'Administration',\n",
       "       'Employee Expense', 'Labor', 'Job Materials Purchased',\n",
       "       'Equipment Rental for Jobs'], dtype=object)"
      ]
     },
     "execution_count": 12,
     "metadata": {},
     "output_type": "execute_result"
    }
   ],
   "source": [
    "# Replace specified account names with 'Labor'\n",
    "combined_clewiston_expenses_cleaned['Account'] = combined_clewiston_expenses_cleaned['Account'].replace(\n",
    "    ['Wages', 'Taxes', 'PT Casual Labor'], 'Labor'\n",
    ")\n",
    "\n",
    "# Display the unique account values to confirm the changes\n",
    "unique_accounts_updated = combined_clewiston_expenses_cleaned['Account'].unique()\n",
    "\n",
    "unique_accounts_updated\n"
   ]
  },
  {
   "cell_type": "code",
   "execution_count": 13,
   "id": "9060e604-0b8f-4532-8ff6-135869aa5f3c",
   "metadata": {},
   "outputs": [
    {
     "data": {
      "text/plain": [
       "array(['Fuel', 'Other', 'Labor', 'Job Materials Purchased',\n",
       "       'Equipment Rental for Jobs'], dtype=object)"
      ]
     },
     "execution_count": 13,
     "metadata": {},
     "output_type": "execute_result"
    }
   ],
   "source": [
    "# Replace specified account names with 'Other'\n",
    "combined_clewiston_expenses_cleaned['Account'] = combined_clewiston_expenses_cleaned['Account'].replace(\n",
    "    ['Travel', 'Meals and Entertainment', 'Administration', 'Employee Expense'], 'Other'\n",
    ")\n",
    "\n",
    "# Display the unique account values to confirm the changes\n",
    "unique_accounts_final = combined_clewiston_expenses_cleaned['Account'].unique()\n",
    "\n",
    "unique_accounts_final\n"
   ]
  },
  {
   "cell_type": "code",
   "execution_count": 14,
   "id": "5f8c20f8-c18a-443c-a6fe-5bfb1235d955",
   "metadata": {},
   "outputs": [
    {
     "data": {
      "text/html": [
       "<div>\n",
       "<style scoped>\n",
       "    .dataframe tbody tr th:only-of-type {\n",
       "        vertical-align: middle;\n",
       "    }\n",
       "\n",
       "    .dataframe tbody tr th {\n",
       "        vertical-align: top;\n",
       "    }\n",
       "\n",
       "    .dataframe thead th {\n",
       "        text-align: right;\n",
       "    }\n",
       "</style>\n",
       "<table border=\"1\" class=\"dataframe\">\n",
       "  <thead>\n",
       "    <tr style=\"text-align: right;\">\n",
       "      <th></th>\n",
       "      <th>Account</th>\n",
       "      <th>Date</th>\n",
       "      <th>Transaction type</th>\n",
       "      <th>Amount</th>\n",
       "    </tr>\n",
       "  </thead>\n",
       "  <tbody>\n",
       "    <tr>\n",
       "      <th>92</th>\n",
       "      <td>Labor</td>\n",
       "      <td>2019-10-11</td>\n",
       "      <td>Payroll Check</td>\n",
       "      <td>2400.00</td>\n",
       "    </tr>\n",
       "    <tr>\n",
       "      <th>93</th>\n",
       "      <td>Labor</td>\n",
       "      <td>2019-10-11</td>\n",
       "      <td>Payroll Check</td>\n",
       "      <td>1013.57</td>\n",
       "    </tr>\n",
       "    <tr>\n",
       "      <th>94</th>\n",
       "      <td>Labor</td>\n",
       "      <td>2019-10-11</td>\n",
       "      <td>Payroll Check</td>\n",
       "      <td>1440.00</td>\n",
       "    </tr>\n",
       "    <tr>\n",
       "      <th>95</th>\n",
       "      <td>Labor</td>\n",
       "      <td>2019-10-25</td>\n",
       "      <td>Payroll Check</td>\n",
       "      <td>1548.50</td>\n",
       "    </tr>\n",
       "    <tr>\n",
       "      <th>96</th>\n",
       "      <td>Labor</td>\n",
       "      <td>2019-10-25</td>\n",
       "      <td>Payroll Check</td>\n",
       "      <td>1065.90</td>\n",
       "    </tr>\n",
       "    <tr>\n",
       "      <th>...</th>\n",
       "      <td>...</td>\n",
       "      <td>...</td>\n",
       "      <td>...</td>\n",
       "      <td>...</td>\n",
       "    </tr>\n",
       "    <tr>\n",
       "      <th>568</th>\n",
       "      <td>Labor</td>\n",
       "      <td>2019-09-27</td>\n",
       "      <td>Check</td>\n",
       "      <td>324.00</td>\n",
       "    </tr>\n",
       "    <tr>\n",
       "      <th>569</th>\n",
       "      <td>Labor</td>\n",
       "      <td>2020-05-29</td>\n",
       "      <td>Expense</td>\n",
       "      <td>136.00</td>\n",
       "    </tr>\n",
       "    <tr>\n",
       "      <th>570</th>\n",
       "      <td>Labor</td>\n",
       "      <td>2020-06-01</td>\n",
       "      <td>Expense</td>\n",
       "      <td>136.00</td>\n",
       "    </tr>\n",
       "    <tr>\n",
       "      <th>571</th>\n",
       "      <td>Labor</td>\n",
       "      <td>2020-06-22</td>\n",
       "      <td>Expense</td>\n",
       "      <td>195.00</td>\n",
       "    </tr>\n",
       "    <tr>\n",
       "      <th>572</th>\n",
       "      <td>Labor</td>\n",
       "      <td>2020-07-06</td>\n",
       "      <td>Expense</td>\n",
       "      <td>200.00</td>\n",
       "    </tr>\n",
       "  </tbody>\n",
       "</table>\n",
       "<p>217 rows × 4 columns</p>\n",
       "</div>"
      ],
      "text/plain": [
       "    Account       Date Transaction type   Amount\n",
       "92    Labor 2019-10-11    Payroll Check  2400.00\n",
       "93    Labor 2019-10-11    Payroll Check  1013.57\n",
       "94    Labor 2019-10-11    Payroll Check  1440.00\n",
       "95    Labor 2019-10-25    Payroll Check  1548.50\n",
       "96    Labor 2019-10-25    Payroll Check  1065.90\n",
       "..      ...        ...              ...      ...\n",
       "568   Labor 2019-09-27            Check   324.00\n",
       "569   Labor 2020-05-29          Expense   136.00\n",
       "570   Labor 2020-06-01          Expense   136.00\n",
       "571   Labor 2020-06-22          Expense   195.00\n",
       "572   Labor 2020-07-06          Expense   200.00\n",
       "\n",
       "[217 rows x 4 columns]"
      ]
     },
     "execution_count": 14,
     "metadata": {},
     "output_type": "execute_result"
    }
   ],
   "source": [
    "#Change labor to reflect pay period end date instead of payday (one week past pay period end date)\n",
    "# Subtract one week from the 'Date' column for all 'Labor' entries\n",
    "combined_clewiston_expenses_cleaned.loc[\n",
    "    combined_clewiston_expenses_cleaned['Account'] == 'Labor', 'Date'\n",
    "] = combined_clewiston_expenses_cleaned.loc[\n",
    "    combined_clewiston_expenses_cleaned['Account'] == 'Labor', 'Date'\n",
    "] - pd.Timedelta(weeks=1)\n",
    "\n",
    "# Display the updated 'Labor' entries to confirm the changes\n",
    "labor_entries_updated = combined_clewiston_expenses_cleaned[\n",
    "    combined_clewiston_expenses_cleaned['Account'] == 'Labor'\n",
    "]\n",
    "\n",
    "labor_entries_updated\n",
    "\n"
   ]
  },
  {
   "cell_type": "code",
   "execution_count": 15,
   "id": "91a6cbf6-ce04-4882-982c-7b14146b87ae",
   "metadata": {},
   "outputs": [
    {
     "data": {
      "text/plain": [
       "'ClewistonExpensesFinal.csv'"
      ]
     },
     "execution_count": 15,
     "metadata": {},
     "output_type": "execute_result"
    }
   ],
   "source": [
    "# Rename the dataframe\n",
    "clewiston_expense_df = combined_clewiston_expenses_cleaned\n",
    "\n",
    "# Save the dataframe as 'ClewistonExpensesFinal.csv'\n",
    "csv_path = \"ClewistonExpensesFinal.csv\"\n",
    "clewiston_expense_df.to_csv(csv_path, index=False)\n",
    "\n",
    "# Confirm the operation\n",
    "csv_path\n"
   ]
  },
  {
   "cell_type": "code",
   "execution_count": 16,
   "id": "d2c15720-4480-492e-bf2c-006b5f260a57",
   "metadata": {},
   "outputs": [],
   "source": [
    "#import NeJobs CSV to add Clewiston data\n",
    "NE_jobs_df = pd.read_csv(\"NEJobs.csv\")"
   ]
  },
  {
   "cell_type": "code",
   "execution_count": 17,
   "id": "b9b4417d-ec72-4289-8b11-a4c4cd790d5f",
   "metadata": {},
   "outputs": [
    {
     "data": {
      "text/html": [
       "<div>\n",
       "<style scoped>\n",
       "    .dataframe tbody tr th:only-of-type {\n",
       "        vertical-align: middle;\n",
       "    }\n",
       "\n",
       "    .dataframe tbody tr th {\n",
       "        vertical-align: top;\n",
       "    }\n",
       "\n",
       "    .dataframe thead th {\n",
       "        text-align: right;\n",
       "    }\n",
       "</style>\n",
       "<table border=\"1\" class=\"dataframe\">\n",
       "  <thead>\n",
       "    <tr style=\"text-align: right;\">\n",
       "      <th></th>\n",
       "      <th>Job Name</th>\n",
       "      <th>Materials</th>\n",
       "      <th>Labor</th>\n",
       "      <th>Equipment Rental</th>\n",
       "      <th>Subcontractor Expense</th>\n",
       "      <th>Fuel</th>\n",
       "      <th>Other</th>\n",
       "      <th>Total Cost</th>\n",
       "      <th>Total Income</th>\n",
       "      <th>Profit Margin</th>\n",
       "      <th>Vendor Credits</th>\n",
       "    </tr>\n",
       "  </thead>\n",
       "  <tbody>\n",
       "    <tr>\n",
       "      <th>0</th>\n",
       "      <td>The Manor</td>\n",
       "      <td>246049.05</td>\n",
       "      <td>199060.77</td>\n",
       "      <td>4181.55</td>\n",
       "      <td>47900.54</td>\n",
       "      <td>6010.92</td>\n",
       "      <td>26252.18</td>\n",
       "      <td>529455.01</td>\n",
       "      <td>828476.88</td>\n",
       "      <td>0.360000</td>\n",
       "      <td>-30620.53</td>\n",
       "    </tr>\n",
       "    <tr>\n",
       "      <th>1</th>\n",
       "      <td>Clewiston</td>\n",
       "      <td>97240.76</td>\n",
       "      <td>123064.47</td>\n",
       "      <td>23202.76</td>\n",
       "      <td>0.00</td>\n",
       "      <td>2434.42</td>\n",
       "      <td>1290.76</td>\n",
       "      <td>247233.17</td>\n",
       "      <td>374819.47</td>\n",
       "      <td>0.340394</td>\n",
       "      <td>-825.01</td>\n",
       "    </tr>\n",
       "  </tbody>\n",
       "</table>\n",
       "</div>"
      ],
      "text/plain": [
       "    Job Name  Materials      Labor  Equipment Rental  Subcontractor Expense  \\\n",
       "0  The Manor  246049.05  199060.77           4181.55               47900.54   \n",
       "1  Clewiston   97240.76  123064.47          23202.76                   0.00   \n",
       "\n",
       "      Fuel     Other  Total Cost  Total Income  Profit Margin  Vendor Credits  \n",
       "0  6010.92  26252.18   529455.01     828476.88       0.360000       -30620.53  \n",
       "1  2434.42   1290.76   247233.17     374819.47       0.340394         -825.01  "
      ]
     },
     "execution_count": 17,
     "metadata": {},
     "output_type": "execute_result"
    }
   ],
   "source": [
    "# Calculate the necessary values from clewiston_expense_df\n",
    "materials_sum = clewiston_expense_df[clewiston_expense_df['Account'] == 'Job Materials Purchased']['Amount'].sum()\n",
    "labor_sum = clewiston_expense_df[clewiston_expense_df['Account'] == 'Labor']['Amount'].sum()\n",
    "equipment_rental_sum = clewiston_expense_df[clewiston_expense_df['Account'] == 'Equipment Rental for Jobs']['Amount'].sum()\n",
    "fuel_sum = clewiston_expense_df[clewiston_expense_df['Account'] == 'Fuel']['Amount'].sum()\n",
    "other_sum = clewiston_expense_df[clewiston_expense_df['Account'] == 'Other']['Amount'].sum()\n",
    "\n",
    "# Total cost for Clewiston project\n",
    "total_cost = clewiston_expense_df['Amount'].sum()\n",
    "\n",
    "# Assuming total income for this project (you can adjust this value)\n",
    "total_income = 374819.47  # Replace with the correct value if available\n",
    "\n",
    "# Calculate profit margin: (Total Income - Total Cost) / Total Income\n",
    "profit_margin = (total_income - total_cost) / total_income\n",
    "\n",
    "# Sum of vendor credits (as negative numbers if applicable)\n",
    "vendor_credits_sum = clewiston_expense_df[\n",
    "    clewiston_expense_df['Transaction type'] == 'Vendor Credit']['Amount'].sum()\n",
    "\n",
    "# Create a new row for the Clewiston job\n",
    "clewiston_row = {\n",
    "    \"Job Name\": \"Clewiston\",\n",
    "    \"Materials\": materials_sum,\n",
    "    \"Labor\": labor_sum,\n",
    "    \"Equipment Rental\": equipment_rental_sum,\n",
    "    \"Subcontractor Expense\": 0.00,  # No subcontractor expense mentioned\n",
    "    \"Fuel\": fuel_sum,\n",
    "    \"Other\": other_sum,\n",
    "    \"Total Cost\": total_cost,\n",
    "    \"Total Income\": total_income,\n",
    "    \"Profit Margin\": profit_margin,\n",
    "    \"Vendor Credits\": vendor_credits_sum\n",
    "}\n",
    "\n",
    "# Append the Clewiston row to NE_jobs_df\n",
    "NE_jobs_df = pd.concat([NE_jobs_df, pd.DataFrame([clewiston_row])], ignore_index=True)\n",
    "\n",
    "# Save the updated NE_jobs_df to the CSV file\n",
    "csv_path = \"NEjobs.csv\"\n",
    "NE_jobs_df.to_csv(csv_path, index=False)\n",
    "\n",
    "# Display the updated NE_jobs_df to confirm\n",
    "NE_jobs_df\n",
    "\n"
   ]
  },
  {
   "cell_type": "code",
   "execution_count": 18,
   "id": "ddfcf95b-f57c-4437-9acd-2f5453c53a58",
   "metadata": {},
   "outputs": [],
   "source": [
    "clewiston_expense_df.to_excel('ClewistonExpensesFinal.xlsx', index=False)"
   ]
  },
  {
   "cell_type": "code",
   "execution_count": null,
   "id": "03aad35f-9392-401e-a210-c1ec1e35480d",
   "metadata": {},
   "outputs": [],
   "source": []
  }
 ],
 "metadata": {
  "kernelspec": {
   "display_name": "Python 3 (ipykernel)",
   "language": "python",
   "name": "python3"
  },
  "language_info": {
   "codemirror_mode": {
    "name": "ipython",
    "version": 3
   },
   "file_extension": ".py",
   "mimetype": "text/x-python",
   "name": "python",
   "nbconvert_exporter": "python",
   "pygments_lexer": "ipython3",
   "version": "3.12.5"
  }
 },
 "nbformat": 4,
 "nbformat_minor": 5
}
