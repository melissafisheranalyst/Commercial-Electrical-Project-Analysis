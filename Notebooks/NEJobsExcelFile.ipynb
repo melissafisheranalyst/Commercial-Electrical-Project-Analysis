{
 "cells": [
  {
   "cell_type": "code",
   "execution_count": 4,
   "id": "05d48136-043e-427f-95cc-e3ae36284918",
   "metadata": {},
   "outputs": [
    {
     "name": "stdout",
     "output_type": "stream",
     "text": [
      "Files have been combined into 'NEJobsCombinedWorkbook.xlsx'\n"
     ]
    }
   ],
   "source": [
    "import pandas as pd\n",
    "from openpyxl import Workbook\n",
    "\n",
    "# Correct file paths and sheet names\n",
    "files = {\n",
    "    \"NEJobs.xlsx\": \"NEJobs\",\n",
    "    \"ManorExpensesFinal.xlsx\": \"ManorExpenses\",\n",
    "    \"AvidExpensesFinal.xlsx\": \"AvidExpenses\",\n",
    "    \"ClewistonExpensesFinal.xlsx\": \"ClewistonExpenses\",  # Fixed typo here\n",
    "    \"ClewistonBalanceSheet .xlsx\": \"ClewistonBalance\",  # Removed extra space\n",
    "    \"ManorBalanceSheet.xlsx\": \"ManorBalance\",\n",
    "    \"AvidBalanceSheet.xlsx\": \"AvidBalance\"\n",
    "}\n",
    "\n",
    "# Create a new Excel writer object\n",
    "with pd.ExcelWriter(\"NEJobsCombinedWorkbook.xlsx\", engine='openpyxl') as writer:\n",
    "    for file_path, sheet_name in files.items():\n",
    "        try:\n",
    "            # Read each file into a DataFrame\n",
    "            df = pd.read_excel(file_path)\n",
    "\n",
    "            # Write the DataFrame to the specified sheet\n",
    "            df.to_excel(writer, sheet_name=sheet_name, index=False)\n",
    "        except FileNotFoundError:\n",
    "            print(f\"Error: File '{file_path}' not found. Please check the file path.\")\n",
    "\n",
    "print(\"Files have been combined into 'NEJobsCombinedWorkbook.xlsx'\")\n"
   ]
  },
  {
   "cell_type": "code",
   "execution_count": null,
   "id": "17d2f31f-d95c-4a50-b8b1-9133b5d15fca",
   "metadata": {},
   "outputs": [],
   "source": []
  }
 ],
 "metadata": {
  "kernelspec": {
   "display_name": "Python 3 (ipykernel)",
   "language": "python",
   "name": "python3"
  },
  "language_info": {
   "codemirror_mode": {
    "name": "ipython",
    "version": 3
   },
   "file_extension": ".py",
   "mimetype": "text/x-python",
   "name": "python",
   "nbconvert_exporter": "python",
   "pygments_lexer": "ipython3",
   "version": "3.12.5"
  }
 },
 "nbformat": 4,
 "nbformat_minor": 5
}
