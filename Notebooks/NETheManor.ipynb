{
 "cells": [
  {
   "cell_type": "code",
   "execution_count": 1,
   "id": "e327f854-26c7-4add-9ac1-b1beb1d51079",
   "metadata": {},
   "outputs": [
    {
     "data": {
      "text/plain": [
       "(            Natural Electric LLC                     Unnamed: 1  Unnamed: 2  \\\n",
       " 0             Transaction Report                            NaN         NaN   \n",
       " 1                      All Dates                            NaN         NaN   \n",
       " 2                            NaN                        Account        Date   \n",
       " 3  51400 Job Materials Purchased                            NaN         NaN   \n",
       " 4                            NaN  51400 Job Materials Purchased  03/28/2019   \n",
       " \n",
       "          Unnamed: 3 Unnamed: 4  \n",
       " 0               NaN        NaN  \n",
       " 1               NaN        NaN  \n",
       " 2  Transaction type     Amount  \n",
       " 3               NaN        NaN  \n",
       " 4              Bill  $8,052.47  ,\n",
       "   Natural Electric LLC Unnamed: 1  Unnamed: 2        Unnamed: 3 Unnamed: 4\n",
       " 0   Transaction Report        NaN         NaN               NaN        NaN\n",
       " 1            All Dates        NaN         NaN               NaN        NaN\n",
       " 2                  NaN    Account        Date  Transaction type     Amount\n",
       " 3                 Fuel        NaN         NaN               NaN        NaN\n",
       " 4                  NaN       Fuel  04/01/2019           Expense     $40.01)"
      ]
     },
     "execution_count": 1,
     "metadata": {},
     "output_type": "execute_result"
    }
   ],
   "source": [
    "import pandas as pd\n",
    "\n",
    "# Load the uploaded files into dataframes - csv files downloaded from QuickBooks\n",
    "file_path1 = \"ManorExpenses.csv\"\n",
    "file_path2 = \"manorexpenses2.csv\"\n",
    "\n",
    "df1 = pd.read_csv(file_path1)\n",
    "df2 = pd.read_csv(file_path2)\n",
    "\n",
    "# Display the first few rows of both dataframes to understand their structures\n",
    "df1_head = df1.head()\n",
    "df2_head = df2.head()\n",
    "\n",
    "df1_head, df2_head\n"
   ]
  },
  {
   "cell_type": "code",
   "execution_count": 2,
   "id": "eb22ec27-e942-4148-8978-d8e6910992f4",
   "metadata": {},
   "outputs": [
    {
     "data": {
      "text/html": [
       "<div>\n",
       "<style scoped>\n",
       "    .dataframe tbody tr th:only-of-type {\n",
       "        vertical-align: middle;\n",
       "    }\n",
       "\n",
       "    .dataframe tbody tr th {\n",
       "        vertical-align: top;\n",
       "    }\n",
       "\n",
       "    .dataframe thead th {\n",
       "        text-align: right;\n",
       "    }\n",
       "</style>\n",
       "<table border=\"1\" class=\"dataframe\">\n",
       "  <thead>\n",
       "    <tr style=\"text-align: right;\">\n",
       "      <th></th>\n",
       "      <th>Unnamed: 0</th>\n",
       "      <th>Account</th>\n",
       "      <th>Date</th>\n",
       "      <th>Transaction type</th>\n",
       "      <th>Amount</th>\n",
       "    </tr>\n",
       "  </thead>\n",
       "  <tbody>\n",
       "    <tr>\n",
       "      <th>0</th>\n",
       "      <td>51400 Job Materials Purchased</td>\n",
       "      <td>NaN</td>\n",
       "      <td>NaN</td>\n",
       "      <td>NaN</td>\n",
       "      <td>NaN</td>\n",
       "    </tr>\n",
       "    <tr>\n",
       "      <th>1</th>\n",
       "      <td>NaN</td>\n",
       "      <td>51400 Job Materials Purchased</td>\n",
       "      <td>03/28/2019</td>\n",
       "      <td>Bill</td>\n",
       "      <td>$8,052.47</td>\n",
       "    </tr>\n",
       "    <tr>\n",
       "      <th>2</th>\n",
       "      <td>NaN</td>\n",
       "      <td>51400 Job Materials Purchased</td>\n",
       "      <td>04/01/2019</td>\n",
       "      <td>Bill</td>\n",
       "      <td>$924.55</td>\n",
       "    </tr>\n",
       "    <tr>\n",
       "      <th>3</th>\n",
       "      <td>NaN</td>\n",
       "      <td>51400 Job Materials Purchased</td>\n",
       "      <td>04/01/2019</td>\n",
       "      <td>Bill</td>\n",
       "      <td>$1,306.59</td>\n",
       "    </tr>\n",
       "    <tr>\n",
       "      <th>4</th>\n",
       "      <td>NaN</td>\n",
       "      <td>51400 Job Materials Purchased</td>\n",
       "      <td>04/01/2019</td>\n",
       "      <td>Bill</td>\n",
       "      <td>$700.32</td>\n",
       "    </tr>\n",
       "  </tbody>\n",
       "</table>\n",
       "</div>"
      ],
      "text/plain": [
       "                      Unnamed: 0                        Account        Date  \\\n",
       "0  51400 Job Materials Purchased                            NaN         NaN   \n",
       "1                            NaN  51400 Job Materials Purchased  03/28/2019   \n",
       "2                            NaN  51400 Job Materials Purchased  04/01/2019   \n",
       "3                            NaN  51400 Job Materials Purchased  04/01/2019   \n",
       "4                            NaN  51400 Job Materials Purchased  04/01/2019   \n",
       "\n",
       "  Transaction type     Amount  \n",
       "0              NaN        NaN  \n",
       "1             Bill  $8,052.47  \n",
       "2             Bill    $924.55  \n",
       "3             Bill  $1,306.59  \n",
       "4             Bill    $700.32  "
      ]
     },
     "execution_count": 2,
     "metadata": {},
     "output_type": "execute_result"
    }
   ],
   "source": [
    "# Reloading the datasets, skipping the irrelevant metadata rows\n",
    "df1_clean = pd.read_csv(file_path1, skiprows=4)  # Start reading from row 4\n",
    "df2_clean = pd.read_csv(file_path2, skiprows=4)  # Start reading from row 4\n",
    "\n",
    "# Check if the columns are identical before merging\n",
    "columns_match = df1_clean.columns == df2_clean.columns\n",
    "\n",
    "# If columns match, concatenate the dataframes\n",
    "if columns_match.all():\n",
    "    combined_df = pd.concat([df1_clean, df2_clean], ignore_index=True)\n",
    "else:\n",
    "    combined_df = None  # If columns don't match, we'll handle it differently\n",
    "\n",
    "# Display the combined dataset or column mismatch message\n",
    "combined_df_head = combined_df.head() if combined_df is not None else \"Column mismatch detected.\"\n",
    "combined_df_head\n"
   ]
  },
  {
   "cell_type": "code",
   "execution_count": 4,
   "id": "be2c4b1f-57e8-403a-9d58-1c226bc260d2",
   "metadata": {},
   "outputs": [
    {
     "data": {
      "text/html": [
       "<div>\n",
       "<style scoped>\n",
       "    .dataframe tbody tr th:only-of-type {\n",
       "        vertical-align: middle;\n",
       "    }\n",
       "\n",
       "    .dataframe tbody tr th {\n",
       "        vertical-align: top;\n",
       "    }\n",
       "\n",
       "    .dataframe thead th {\n",
       "        text-align: right;\n",
       "    }\n",
       "</style>\n",
       "<table border=\"1\" class=\"dataframe\">\n",
       "  <thead>\n",
       "    <tr style=\"text-align: right;\">\n",
       "      <th></th>\n",
       "      <th>Account</th>\n",
       "      <th>Date</th>\n",
       "      <th>Transaction type</th>\n",
       "      <th>Amount</th>\n",
       "    </tr>\n",
       "  </thead>\n",
       "  <tbody>\n",
       "    <tr>\n",
       "      <th>0</th>\n",
       "      <td>NaN</td>\n",
       "      <td>NaN</td>\n",
       "      <td>NaN</td>\n",
       "      <td>NaN</td>\n",
       "    </tr>\n",
       "    <tr>\n",
       "      <th>1</th>\n",
       "      <td>51400 Job Materials Purchased</td>\n",
       "      <td>03/28/2019</td>\n",
       "      <td>Bill</td>\n",
       "      <td>$8,052.47</td>\n",
       "    </tr>\n",
       "    <tr>\n",
       "      <th>2</th>\n",
       "      <td>51400 Job Materials Purchased</td>\n",
       "      <td>04/01/2019</td>\n",
       "      <td>Bill</td>\n",
       "      <td>$924.55</td>\n",
       "    </tr>\n",
       "    <tr>\n",
       "      <th>3</th>\n",
       "      <td>51400 Job Materials Purchased</td>\n",
       "      <td>04/01/2019</td>\n",
       "      <td>Bill</td>\n",
       "      <td>$1,306.59</td>\n",
       "    </tr>\n",
       "    <tr>\n",
       "      <th>4</th>\n",
       "      <td>51400 Job Materials Purchased</td>\n",
       "      <td>04/01/2019</td>\n",
       "      <td>Bill</td>\n",
       "      <td>$700.32</td>\n",
       "    </tr>\n",
       "  </tbody>\n",
       "</table>\n",
       "</div>"
      ],
      "text/plain": [
       "                         Account        Date Transaction type     Amount\n",
       "0                            NaN         NaN              NaN        NaN\n",
       "1  51400 Job Materials Purchased  03/28/2019             Bill  $8,052.47\n",
       "2  51400 Job Materials Purchased  04/01/2019             Bill    $924.55\n",
       "3  51400 Job Materials Purchased  04/01/2019             Bill  $1,306.59\n",
       "4  51400 Job Materials Purchased  04/01/2019             Bill    $700.32"
      ]
     },
     "execution_count": 4,
     "metadata": {},
     "output_type": "execute_result"
    }
   ],
   "source": [
    "# Remove the first column\n",
    "cleaned_df_without_first_column = combined_df.iloc[:, 1:]\n",
    "\n",
    "# Display the first few rows of the updated dataframe\n",
    "cleaned_df_without_first_column_head = cleaned_df_without_first_column.head()\n",
    "cleaned_df_without_first_column_head\n"
   ]
  },
  {
   "cell_type": "code",
   "execution_count": 5,
   "id": "ccd3837d-d19e-46a5-919e-15a85de59fc4",
   "metadata": {},
   "outputs": [
    {
     "data": {
      "text/plain": [
       "Account             32\n",
       "Date                32\n",
       "Transaction type    32\n",
       "Amount              16\n",
       "dtype: int64"
      ]
     },
     "execution_count": 5,
     "metadata": {},
     "output_type": "execute_result"
    }
   ],
   "source": [
    "# Report the number of NaN and missing values in each column\n",
    "missing_values_report = cleaned_df_without_first_column.isna().sum()\n",
    "\n",
    "missing_values_report\n"
   ]
  },
  {
   "cell_type": "code",
   "execution_count": 6,
   "id": "dea03c5d-cd9c-425b-ae1f-0bf15f26e2b3",
   "metadata": {},
   "outputs": [
    {
     "name": "stdout",
     "output_type": "stream",
     "text": [
      "No rows with missing values found.\n"
     ]
    }
   ],
   "source": [
    "# Drop all rows with any NaN values\n",
    "cleaned_df_no_na = cleaned_df_without_first_column.dropna()\n",
    "\n",
    "# Identify rows with any missing values\n",
    "rows_with_missing_values = cleaned_df_no_na[cleaned_df_no_na.isna().any(axis=1)]\n",
    "\n",
    "# Display the rows with missing values (if any)\n",
    "if not rows_with_missing_values.empty:\n",
    "    print(\"Rows with missing values:\")\n",
    "    print(rows_with_missing_values)\n",
    "else:\n",
    "    print(\"No rows with missing values found.\")\n"
   ]
  },
  {
   "cell_type": "code",
   "execution_count": 7,
   "id": "cc24dcde-f36d-410f-8a9f-07e7dc9ed322",
   "metadata": {},
   "outputs": [
    {
     "data": {
      "text/plain": [
       "Account             object\n",
       "Date                object\n",
       "Transaction type    object\n",
       "Amount              object\n",
       "dtype: object"
      ]
     },
     "execution_count": 7,
     "metadata": {},
     "output_type": "execute_result"
    }
   ],
   "source": [
    "# Display the data types of each column in the cleaned dataframe\n",
    "data_types = cleaned_df_no_na.dtypes\n",
    "data_types"
   ]
  },
  {
   "cell_type": "code",
   "execution_count": 10,
   "id": "2d237cf3-f5b9-4aa4-874d-eed014b5d9bc",
   "metadata": {},
   "outputs": [
    {
     "data": {
      "text/plain": [
       "Account                     object\n",
       "Date                datetime64[ns]\n",
       "Transaction type            object\n",
       "Amount                     float64\n",
       "dtype: object"
      ]
     },
     "execution_count": 10,
     "metadata": {},
     "output_type": "execute_result"
    }
   ],
   "source": [
    "# Modify 'Amount' and 'Date' columns in cleaned_df_no_na\n",
    "cleaned_df_no_na.loc[:, 'Amount'] = (\n",
    "    cleaned_df_no_na['Amount']\n",
    "    .replace(r'[\\$,]', '', regex=True)\n",
    "    .astype(float)\n",
    ")\n",
    "\n",
    "cleaned_df_no_na.loc[:, 'Date'] = pd.to_datetime(\n",
    "    cleaned_df_no_na['Date'], errors='coerce'\n",
    ")\n",
    "\n",
    "# Display data types\n",
    "cleaned_df_no_na.dtypes"
   ]
  },
  {
   "cell_type": "code",
   "execution_count": 11,
   "id": "e4869fc9-09ab-406f-8582-a180de69fa5b",
   "metadata": {},
   "outputs": [
    {
     "data": {
      "text/plain": [
       "array(['51400 Job Materials Purchased', '50800 Equipment Rental for Jobs',\n",
       "       '53600 Subcontractors Expense', 'PT Casual Labor', 'Fuel',\n",
       "       '64300 Meals and Entertainment', '60100 Auto and Truck Expenses',\n",
       "       '63300 Insurance Expense', '60400 Bank Service Charges',\n",
       "       'Employee Education and Resources', 'Employee Bonus', 'Wages',\n",
       "       'Taxes'], dtype=object)"
      ]
     },
     "execution_count": 11,
     "metadata": {},
     "output_type": "execute_result"
    }
   ],
   "source": [
    "# Display all unique values in the 'Account' column\n",
    "unique_account_types = cleaned_df_no_na['Account'].unique()\n",
    "\n",
    "unique_account_types\n"
   ]
  },
  {
   "cell_type": "code",
   "execution_count": 13,
   "id": "2f9a9f9e-aa2d-4ff6-a6e6-a5b1620c7a53",
   "metadata": {},
   "outputs": [
    {
     "name": "stdout",
     "output_type": "stream",
     "text": [
      "['Job Materials Purchased' 'Equipment Rental for Jobs'\n",
      " 'Subcontractors Expense' 'PT Casual Labor' 'Fuel'\n",
      " 'Meals and Entertainment' 'Auto and Truck Expenses' 'Insurance Expense'\n",
      " 'Bank Service Charges' 'Employee Education and Resources'\n",
      " 'Employee Bonus' 'Wages' 'Taxes']\n"
     ]
    }
   ],
   "source": [
    "# Remove leading numbers and spaces from the 'Account' column using regex\n",
    "cleaned_df_no_na.loc[:, 'Account'] = cleaned_df_no_na['Account'].str.replace(r'^\\d+\\s+', '', regex=True)\n",
    "\n",
    "# Display the unique account types after cleaning\n",
    "unique_account_types_cleaned = cleaned_df_no_na['Account'].unique()\n",
    "\n",
    "print(unique_account_types_cleaned)\n"
   ]
  },
  {
   "cell_type": "code",
   "execution_count": 14,
   "id": "c016bdc3-3923-4104-b177-48f0efedb8ee",
   "metadata": {},
   "outputs": [
    {
     "name": "stdout",
     "output_type": "stream",
     "text": [
      "['Job Materials Purchased' 'Equipment Rental for Jobs'\n",
      " 'Subcontractors Expense' 'PT Casual Labor' 'Fuel'\n",
      " 'Meals and Entertainment' 'Auto and Truck Expenses' 'Insurance Expense'\n",
      " 'Bank Service Charges' 'Employee Education and Resources' 'Wages' 'Taxes']\n"
     ]
    }
   ],
   "source": [
    "# Remove rows where 'Account' is 'Employee Bonus'\n",
    "cleaned_df_no_na = cleaned_df_no_na[cleaned_df_no_na['Account'] != 'Employee Bonus']\n",
    "\n",
    "#Display unique account types to confirm removal\n",
    "\n",
    "unique_account_types_cleaned = cleaned_df_no_na['Account'].unique()\n",
    "\n",
    "print(unique_account_types_cleaned)\n"
   ]
  },
  {
   "cell_type": "code",
   "execution_count": 15,
   "id": "964a80b8-b070-4556-9bf5-75ede6f0e006",
   "metadata": {},
   "outputs": [
    {
     "data": {
      "text/plain": [
       "array(['Job Materials Purchased', 'Equipment Rental for Jobs',\n",
       "       'Subcontractors Expense', 'Labor', 'Fuel',\n",
       "       'Meals and Entertainment', 'Auto and Truck Expenses',\n",
       "       'Insurance Expense', 'Bank Service Charges',\n",
       "       'Employee Education and Resources'], dtype=object)"
      ]
     },
     "execution_count": 15,
     "metadata": {},
     "output_type": "execute_result"
    }
   ],
   "source": [
    "# Replace specified account names with 'Labor'\n",
    "cleaned_df_no_na['Account'] = cleaned_df_no_na['Account'].replace(\n",
    "    ['PT Casual Labor', 'Wages', 'Taxes'], 'Labor'\n",
    ")\n",
    "\n",
    "# Display the unique account types to confirm the change\n",
    "unique_account_types_updated = cleaned_df_no_na['Account'].unique()\n",
    "\n",
    "unique_account_types_updated\n"
   ]
  },
  {
   "cell_type": "code",
   "execution_count": 16,
   "id": "3d217cf2-86f2-44f4-8d8a-e21ca7d49497",
   "metadata": {},
   "outputs": [
    {
     "data": {
      "text/plain": [
       "array(['Job Materials Purchased', 'Equipment Rental for Jobs',\n",
       "       'Subcontractors Expense', 'Labor', 'Fuel', 'Other',\n",
       "       'Employee Education and Resources'], dtype=object)"
      ]
     },
     "execution_count": 16,
     "metadata": {},
     "output_type": "execute_result"
    }
   ],
   "source": [
    "# Replace specified account names with 'Other'\n",
    "cleaned_df_no_na['Account'] = cleaned_df_no_na['Account'].replace(\n",
    "    ['Meals and Entertainment', 'Auto and Truck Expenses', \n",
    "     'Insurance Expense', 'Bank Service Charges'], 'Other'\n",
    ")\n",
    "\n",
    "# Display the unique account types to confirm the change\n",
    "unique_account_types_final = cleaned_df_no_na['Account'].unique()\n",
    "\n",
    "unique_account_types_final\n"
   ]
  },
  {
   "cell_type": "code",
   "execution_count": 17,
   "id": "3710acdd-4f10-461f-9cd6-3648b131a782",
   "metadata": {},
   "outputs": [
    {
     "data": {
      "text/plain": [
       "array(['Job Materials Purchased', 'Equipment Rental for Jobs',\n",
       "       'Subcontractors Expense', 'Labor', 'Fuel', 'Other'], dtype=object)"
      ]
     },
     "execution_count": 17,
     "metadata": {},
     "output_type": "execute_result"
    }
   ],
   "source": [
    "# Remove the row with 'Employee Education and Resources'\n",
    "cleaned_df_no_na = cleaned_df_no_na[cleaned_df_no_na['Account'] != 'Employee Education and Resources']\n",
    "\n",
    "# Display the unique account types to confirm the change\n",
    "unique_account_types_final = cleaned_df_no_na['Account'].unique()\n",
    "\n",
    "unique_account_types_final\n"
   ]
  },
  {
   "cell_type": "code",
   "execution_count": 18,
   "id": "1459c071-7cd8-4ac0-b107-85cf63aa7850",
   "metadata": {},
   "outputs": [
    {
     "data": {
      "text/html": [
       "<div>\n",
       "<style scoped>\n",
       "    .dataframe tbody tr th:only-of-type {\n",
       "        vertical-align: middle;\n",
       "    }\n",
       "\n",
       "    .dataframe tbody tr th {\n",
       "        vertical-align: top;\n",
       "    }\n",
       "\n",
       "    .dataframe thead th {\n",
       "        text-align: right;\n",
       "    }\n",
       "</style>\n",
       "<table border=\"1\" class=\"dataframe\">\n",
       "  <thead>\n",
       "    <tr style=\"text-align: right;\">\n",
       "      <th></th>\n",
       "      <th>Account</th>\n",
       "      <th>Date</th>\n",
       "      <th>Transaction type</th>\n",
       "      <th>Amount</th>\n",
       "    </tr>\n",
       "  </thead>\n",
       "  <tbody>\n",
       "    <tr>\n",
       "      <th>410</th>\n",
       "      <td>Labor</td>\n",
       "      <td>2020-06-22</td>\n",
       "      <td>Expense</td>\n",
       "      <td>333.00</td>\n",
       "    </tr>\n",
       "    <tr>\n",
       "      <th>411</th>\n",
       "      <td>Labor</td>\n",
       "      <td>2020-06-24</td>\n",
       "      <td>Expense</td>\n",
       "      <td>307.40</td>\n",
       "    </tr>\n",
       "    <tr>\n",
       "      <th>641</th>\n",
       "      <td>Labor</td>\n",
       "      <td>2019-03-15</td>\n",
       "      <td>Payroll Check</td>\n",
       "      <td>999.26</td>\n",
       "    </tr>\n",
       "    <tr>\n",
       "      <th>642</th>\n",
       "      <td>Labor</td>\n",
       "      <td>2019-03-15</td>\n",
       "      <td>Payroll Check</td>\n",
       "      <td>130.67</td>\n",
       "    </tr>\n",
       "    <tr>\n",
       "      <th>643</th>\n",
       "      <td>Labor</td>\n",
       "      <td>2019-03-15</td>\n",
       "      <td>Payroll Check</td>\n",
       "      <td>1121.31</td>\n",
       "    </tr>\n",
       "    <tr>\n",
       "      <th>...</th>\n",
       "      <td>...</td>\n",
       "      <td>...</td>\n",
       "      <td>...</td>\n",
       "      <td>...</td>\n",
       "    </tr>\n",
       "    <tr>\n",
       "      <th>1000</th>\n",
       "      <td>Labor</td>\n",
       "      <td>2020-10-23</td>\n",
       "      <td>Payroll Check</td>\n",
       "      <td>14.82</td>\n",
       "    </tr>\n",
       "    <tr>\n",
       "      <th>1001</th>\n",
       "      <td>Labor</td>\n",
       "      <td>2020-11-06</td>\n",
       "      <td>Payroll Check</td>\n",
       "      <td>17.04</td>\n",
       "    </tr>\n",
       "    <tr>\n",
       "      <th>1002</th>\n",
       "      <td>Labor</td>\n",
       "      <td>2021-01-15</td>\n",
       "      <td>Payroll Check</td>\n",
       "      <td>3.43</td>\n",
       "    </tr>\n",
       "    <tr>\n",
       "      <th>1003</th>\n",
       "      <td>Labor</td>\n",
       "      <td>2021-01-15</td>\n",
       "      <td>Payroll Check</td>\n",
       "      <td>0.79</td>\n",
       "    </tr>\n",
       "    <tr>\n",
       "      <th>1004</th>\n",
       "      <td>Labor</td>\n",
       "      <td>2021-02-12</td>\n",
       "      <td>Payroll Check</td>\n",
       "      <td>4.94</td>\n",
       "    </tr>\n",
       "  </tbody>\n",
       "</table>\n",
       "<p>364 rows × 4 columns</p>\n",
       "</div>"
      ],
      "text/plain": [
       "     Account       Date Transaction type   Amount\n",
       "410    Labor 2020-06-22          Expense   333.00\n",
       "411    Labor 2020-06-24          Expense   307.40\n",
       "641    Labor 2019-03-15    Payroll Check   999.26\n",
       "642    Labor 2019-03-15    Payroll Check   130.67\n",
       "643    Labor 2019-03-15    Payroll Check  1121.31\n",
       "...      ...        ...              ...      ...\n",
       "1000   Labor 2020-10-23    Payroll Check    14.82\n",
       "1001   Labor 2020-11-06    Payroll Check    17.04\n",
       "1002   Labor 2021-01-15    Payroll Check     3.43\n",
       "1003   Labor 2021-01-15    Payroll Check     0.79\n",
       "1004   Labor 2021-02-12    Payroll Check     4.94\n",
       "\n",
       "[364 rows x 4 columns]"
      ]
     },
     "execution_count": 18,
     "metadata": {},
     "output_type": "execute_result"
    }
   ],
   "source": [
    "#Shift the labor dates one week prior to better reflect dates of actual labor - paycheck one week prior to payperiod end\n",
    "# Subtract one week from the 'Date' column for all 'Labor' entries\n",
    "\n",
    "cleaned_df_no_na.loc[cleaned_df_no_na['Account'] == 'Labor', 'Date'] = (\n",
    "    cleaned_df_no_na.loc[cleaned_df_no_na['Account'] == 'Labor', 'Date'] - pd.Timedelta(weeks=1)\n",
    ")\n",
    "\n",
    "# Display the updated 'Labor' entries to confirm the change\n",
    "labor_entries_updated = cleaned_df_no_na[cleaned_df_no_na['Account'] == 'Labor']\n",
    "\n",
    "labor_entries_updated"
   ]
  },
  {
   "cell_type": "code",
   "execution_count": 19,
   "id": "a999e2f5-4c9c-4feb-8923-5f698ecefdf0",
   "metadata": {},
   "outputs": [
    {
     "data": {
      "text/plain": [
       "<bound method NDFrame.head of                       Account       Date Transaction type   Amount\n",
       "1     Job Materials Purchased 2019-03-28             Bill  8052.47\n",
       "2     Job Materials Purchased 2019-04-01             Bill   924.55\n",
       "3     Job Materials Purchased 2019-04-01             Bill  1306.59\n",
       "4     Job Materials Purchased 2019-04-01             Bill   700.32\n",
       "5     Job Materials Purchased 2019-04-01             Bill   424.47\n",
       "...                       ...        ...              ...      ...\n",
       "1000                    Labor 2020-10-23    Payroll Check    14.82\n",
       "1001                    Labor 2020-11-06    Payroll Check    17.04\n",
       "1002                    Labor 2021-01-15    Payroll Check     3.43\n",
       "1003                    Labor 2021-01-15    Payroll Check     0.79\n",
       "1004                    Labor 2021-02-12    Payroll Check     4.94\n",
       "\n",
       "[975 rows x 4 columns]>"
      ]
     },
     "execution_count": 19,
     "metadata": {},
     "output_type": "execute_result"
    }
   ],
   "source": [
    "# Rename the dataframe to 'manor_expense_df'\n",
    "manor_expense_df = cleaned_df_no_na\n",
    "\n",
    "# Save the dataframe to a CSV file with the name 'ManorExpensesFinal.csv'\n",
    "csv_path = \"ManorExpensesFinal.csv\"\n",
    "manor_expense_df.to_csv(csv_path, index=False)\n",
    "\n",
    "manor_expense_df.head"
   ]
  },
  {
   "cell_type": "code",
   "execution_count": 20,
   "id": "9c4bbfba-2c46-4a8c-b9b5-09ce88d28be4",
   "metadata": {},
   "outputs": [
    {
     "data": {
      "text/html": [
       "<div>\n",
       "<style scoped>\n",
       "    .dataframe tbody tr th:only-of-type {\n",
       "        vertical-align: middle;\n",
       "    }\n",
       "\n",
       "    .dataframe tbody tr th {\n",
       "        vertical-align: top;\n",
       "    }\n",
       "\n",
       "    .dataframe thead th {\n",
       "        text-align: right;\n",
       "    }\n",
       "</style>\n",
       "<table border=\"1\" class=\"dataframe\">\n",
       "  <thead>\n",
       "    <tr style=\"text-align: right;\">\n",
       "      <th></th>\n",
       "      <th>Job Name</th>\n",
       "      <th>Materials</th>\n",
       "      <th>Labor</th>\n",
       "      <th>Equipment Rental</th>\n",
       "      <th>Subcontractor Expense</th>\n",
       "      <th>Fuel</th>\n",
       "      <th>Other</th>\n",
       "      <th>Total Cost</th>\n",
       "      <th>Total Income</th>\n",
       "      <th>Profit Margin</th>\n",
       "      <th>Vendor Credits</th>\n",
       "    </tr>\n",
       "  </thead>\n",
       "  <tbody>\n",
       "  </tbody>\n",
       "</table>\n",
       "</div>"
      ],
      "text/plain": [
       "Empty DataFrame\n",
       "Columns: [Job Name, Materials, Labor, Equipment Rental, Subcontractor Expense, Fuel, Other, Total Cost, Total Income, Profit Margin, Vendor Credits]\n",
       "Index: []"
      ]
     },
     "execution_count": 20,
     "metadata": {},
     "output_type": "execute_result"
    }
   ],
   "source": [
    "# Create a new dataframe 'NE_jobs_df' with the specified columns\n",
    "columns = [\n",
    "    \"Job Name\", \"Materials\", \"Labor\", \"Equipment Rental\", \n",
    "    \"Subcontractor Expense\", \"Fuel\", \"Other\", \n",
    "    \"Total Cost\", \"Total Income\", \"Profit Margin\", \"Vendor Credits\"\n",
    "]\n",
    "\n",
    "# Initialize the new dataframe with the specified columns\n",
    "NE_jobs_df = pd.DataFrame(columns=columns)\n",
    "\n",
    "# Display the new dataframe to confirm its creation\n",
    "NE_jobs_df\n"
   ]
  },
  {
   "cell_type": "code",
   "execution_count": 23,
   "id": "ad0c5e8a-3b71-48aa-9cc3-f8aefe5a0630",
   "metadata": {},
   "outputs": [
    {
     "data": {
      "text/html": [
       "<div>\n",
       "<style scoped>\n",
       "    .dataframe tbody tr th:only-of-type {\n",
       "        vertical-align: middle;\n",
       "    }\n",
       "\n",
       "    .dataframe tbody tr th {\n",
       "        vertical-align: top;\n",
       "    }\n",
       "\n",
       "    .dataframe thead th {\n",
       "        text-align: right;\n",
       "    }\n",
       "</style>\n",
       "<table border=\"1\" class=\"dataframe\">\n",
       "  <thead>\n",
       "    <tr style=\"text-align: right;\">\n",
       "      <th></th>\n",
       "      <th>Job Name</th>\n",
       "      <th>Materials</th>\n",
       "      <th>Labor</th>\n",
       "      <th>Equipment Rental</th>\n",
       "      <th>Subcontractor Expense</th>\n",
       "      <th>Fuel</th>\n",
       "      <th>Other</th>\n",
       "      <th>Total Cost</th>\n",
       "      <th>Total Income</th>\n",
       "      <th>Profit Margin</th>\n",
       "      <th>Vendor Credits</th>\n",
       "    </tr>\n",
       "  </thead>\n",
       "  <tbody>\n",
       "    <tr>\n",
       "      <th>0</th>\n",
       "      <td>The Manor</td>\n",
       "      <td>246049.05</td>\n",
       "      <td>199060.77</td>\n",
       "      <td>4181.55</td>\n",
       "      <td>47900.54</td>\n",
       "      <td>6010.92</td>\n",
       "      <td>26252.18</td>\n",
       "      <td>529455.01</td>\n",
       "      <td>828476.88</td>\n",
       "      <td>0.36</td>\n",
       "      <td>-30620.53</td>\n",
       "    </tr>\n",
       "    <tr>\n",
       "      <th>1</th>\n",
       "      <td>The Manor</td>\n",
       "      <td>246049.05</td>\n",
       "      <td>199060.77</td>\n",
       "      <td>4181.55</td>\n",
       "      <td>47900.54</td>\n",
       "      <td>6010.92</td>\n",
       "      <td>26252.18</td>\n",
       "      <td>529455.01</td>\n",
       "      <td>828476.88</td>\n",
       "      <td>0.36</td>\n",
       "      <td>-30620.53</td>\n",
       "    </tr>\n",
       "  </tbody>\n",
       "</table>\n",
       "</div>"
      ],
      "text/plain": [
       "    Job Name  Materials      Labor  Equipment Rental  Subcontractor Expense  \\\n",
       "0  The Manor  246049.05  199060.77           4181.55               47900.54   \n",
       "1  The Manor  246049.05  199060.77           4181.55               47900.54   \n",
       "\n",
       "      Fuel     Other  Total Cost  Total Income  Profit Margin  Vendor Credits  \n",
       "0  6010.92  26252.18   529455.01     828476.88           0.36       -30620.53  \n",
       "1  6010.92  26252.18   529455.01     828476.88           0.36       -30620.53  "
      ]
     },
     "execution_count": 23,
     "metadata": {},
     "output_type": "execute_result"
    }
   ],
   "source": [
    "# Calculate the necessary values from 'manor_expense_df'\n",
    "materials_sum = manor_expense_df[manor_expense_df['Account'] == 'Job Materials Purchased']['Amount'].sum()\n",
    "labor_sum = manor_expense_df[manor_expense_df['Account'] == 'Labor']['Amount'].sum()\n",
    "equipment_rental_sum = manor_expense_df[manor_expense_df['Account'] == 'Equipment Rental for Jobs']['Amount'].sum()\n",
    "subcontractor_expense_sum = manor_expense_df[manor_expense_df['Account'] == 'Subcontractors Expense']['Amount'].sum()\n",
    "fuel_sum = manor_expense_df[manor_expense_df['Account'] == 'Fuel']['Amount'].sum()\n",
    "other_sum = manor_expense_df[manor_expense_df['Account'] == 'Other']['Amount'].sum()\n",
    "\n",
    "# Total Cost is the sum of all expenses across all account types\n",
    "total_cost = manor_expense_df['Amount'].sum()\n",
    "\n",
    "# Total Income provided as float\n",
    "total_income = 828476.88\n",
    "\n",
    "# Calculate Profit Margin: (Total Income - Total Cost) / Total Income\n",
    "profit_margin = (total_income - total_cost) / total_income\n",
    "\n",
    "# Sum of Vendor Credits (as negative numbers)\n",
    "vendor_credits_sum = manor_expense_df[\n",
    "    manor_expense_df['Transaction type'] == 'Vendor Credit']['Amount'].sum()\n",
    "\n",
    "# Create the first row as a dictionary\n",
    "first_row = {\n",
    "    \"Job Name\": \"The Manor\",\n",
    "    \"Materials\": materials_sum,\n",
    "    \"Labor\": labor_sum,\n",
    "    \"Equipment Rental\": equipment_rental_sum,\n",
    "    \"Subcontractor Expense\": subcontractor_expense_sum,\n",
    "    \"Fuel\": fuel_sum,\n",
    "    \"Other\": other_sum,\n",
    "    \"Total Cost\": total_cost,\n",
    "    \"Total Income\": total_income,\n",
    "    \"Profit Margin\": profit_margin,\n",
    "    \"Vendor Credits\": vendor_credits_sum\n",
    "}\n",
    "\n",
    "# Create a DataFrame from the first row\n",
    "first_row_df = pd.DataFrame([first_row])\n",
    "\n",
    "# === Insert the following section here ===\n",
    "# Drop all-NaN columns from both DataFrames to prevent future warnings\n",
    "first_row_df = first_row_df.dropna(axis=1, how='all')\n",
    "NE_jobs_df = NE_jobs_df.dropna(axis=1, how='all')\n",
    "\n",
    "# Use pd.concat to add the row to NE_jobs_df\n",
    "NE_jobs_df = pd.concat([NE_jobs_df, first_row_df], ignore_index=True)\n",
    "\n",
    "# Round the numeric values to two decimal places\n",
    "NE_jobs_df = NE_jobs_df.round(2)\n",
    "\n",
    "# Display the final NE_jobs_df\n",
    "NE_jobs_df\n"
   ]
  },
  {
   "cell_type": "code",
   "execution_count": 24,
   "id": "60df2a34-3e7d-4024-8732-65f11d52f86c",
   "metadata": {},
   "outputs": [
    {
     "data": {
      "text/html": [
       "<div>\n",
       "<style scoped>\n",
       "    .dataframe tbody tr th:only-of-type {\n",
       "        vertical-align: middle;\n",
       "    }\n",
       "\n",
       "    .dataframe tbody tr th {\n",
       "        vertical-align: top;\n",
       "    }\n",
       "\n",
       "    .dataframe thead th {\n",
       "        text-align: right;\n",
       "    }\n",
       "</style>\n",
       "<table border=\"1\" class=\"dataframe\">\n",
       "  <thead>\n",
       "    <tr style=\"text-align: right;\">\n",
       "      <th></th>\n",
       "      <th>Job Name</th>\n",
       "      <th>Materials</th>\n",
       "      <th>Labor</th>\n",
       "      <th>Equipment Rental</th>\n",
       "      <th>Subcontractor Expense</th>\n",
       "      <th>Fuel</th>\n",
       "      <th>Other</th>\n",
       "      <th>Total Cost</th>\n",
       "      <th>Total Income</th>\n",
       "      <th>Profit Margin</th>\n",
       "      <th>Vendor Credits</th>\n",
       "    </tr>\n",
       "  </thead>\n",
       "  <tbody>\n",
       "    <tr>\n",
       "      <th>0</th>\n",
       "      <td>The Manor</td>\n",
       "      <td>246049.05</td>\n",
       "      <td>199060.77</td>\n",
       "      <td>4181.55</td>\n",
       "      <td>47900.54</td>\n",
       "      <td>6010.92</td>\n",
       "      <td>26252.18</td>\n",
       "      <td>529455.01</td>\n",
       "      <td>828476.88</td>\n",
       "      <td>0.36</td>\n",
       "      <td>-30620.53</td>\n",
       "    </tr>\n",
       "  </tbody>\n",
       "</table>\n",
       "</div>"
      ],
      "text/plain": [
       "    Job Name  Materials      Labor  Equipment Rental  Subcontractor Expense  \\\n",
       "0  The Manor  246049.05  199060.77           4181.55               47900.54   \n",
       "\n",
       "      Fuel     Other  Total Cost  Total Income  Profit Margin  Vendor Credits  \n",
       "0  6010.92  26252.18   529455.01     828476.88           0.36       -30620.53  "
      ]
     },
     "execution_count": 24,
     "metadata": {},
     "output_type": "execute_result"
    }
   ],
   "source": [
    "# Remove duplicate rows from NE_jobs_df\n",
    "NE_jobs_df = NE_jobs_df.drop_duplicates(ignore_index=True)\n",
    "\n",
    "# Display the dataframe to confirm the removal of duplicates\n",
    "NE_jobs_df\n"
   ]
  },
  {
   "cell_type": "code",
   "execution_count": 25,
   "id": "370a8663-dd59-493e-9a51-669457b6da66",
   "metadata": {},
   "outputs": [
    {
     "data": {
      "text/plain": [
       "'NEjobs.csv'"
      ]
     },
     "execution_count": 25,
     "metadata": {},
     "output_type": "execute_result"
    }
   ],
   "source": [
    "# Save the NE_jobs_df to a CSV file named 'NEjobs.csv'\n",
    "csv_path = \"NEjobs.csv\"\n",
    "NE_jobs_df.to_csv(csv_path, index=False)\n",
    "\n",
    "# Confirm the operation\n",
    "csv_path\n"
   ]
  },
  {
   "cell_type": "code",
   "execution_count": 27,
   "id": "8176a80a-73f2-47c1-a7db-0df834205c7c",
   "metadata": {},
   "outputs": [],
   "source": [
    "manor_expense_df.to_excel('ManorExpensesFinal.xlsx', index=False)"
   ]
  },
  {
   "cell_type": "code",
   "execution_count": null,
   "id": "60d3d945-d136-40e5-bcba-dd17366bcb9f",
   "metadata": {},
   "outputs": [],
   "source": []
  }
 ],
 "metadata": {
  "kernelspec": {
   "display_name": "Python 3 (ipykernel)",
   "language": "python",
   "name": "python3"
  },
  "language_info": {
   "codemirror_mode": {
    "name": "ipython",
    "version": 3
   },
   "file_extension": ".py",
   "mimetype": "text/x-python",
   "name": "python",
   "nbconvert_exporter": "python",
   "pygments_lexer": "ipython3",
   "version": "3.12.5"
  }
 },
 "nbformat": 4,
 "nbformat_minor": 5
}
